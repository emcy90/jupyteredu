{
 "cells": [
  {
   "cell_type": "markdown",
   "id": "7dc8af1a",
   "metadata": {},
   "source": [
    "# Uppgift 1\n",
    "Lös ekvationssystemet\n",
    "\n",
    "x - 2 y + 2 z = 3 <br>\n",
    "-x + y + z = 4 <br>\n",
    "2 x + 2 y - 3 z = -3 <br>\n"
   ]
  },
  {
   "cell_type": "markdown",
   "id": "6620c9e7-85f3-44a9-8ff2-58adc34b45bf",
   "metadata": {},
   "source": [
    "###### Lösning för ekvationssystemet genom python-kod involverar fractions pga division och subtraktion. Finns fler sätt att lösa det på. "
   ]
  },
  {
   "cell_type": "code",
   "execution_count": 39,
   "id": "f9c37c18-3375-41c0-bdf6-d3c0aa59ff42",
   "metadata": {},
   "outputs": [
    {
     "name": "stdout",
     "output_type": "stream",
     "text": [
      "[[  1 /   1,  -2 /   1,   2 /   1,   3 /   1],\n",
      " [ -1 /   1,   1 /   1,   1 /   1,   4 /   1],\n",
      " [  2 /   1,   2 /   1,  -3 /   1,  -3 /   1]]\n",
      "\n",
      "[[  1 /   1,  -2 /   1,   2 /   1,   3 /   1],\n",
      " [  0 /   1,  -1 /   1,   3 /   1,   7 /   1],\n",
      " [  0 /   1,   6 /   1,  -7 /   1,  -9 /   1]]\n",
      "\n",
      "[[  1 /   1,   0 /   1,  -4 /   1, -11 /   1],\n",
      " [  0 /   1,   1 /   1,  -3 /   1,  -7 /   1],\n",
      " [  0 /   1,   0 /   1,  11 /   1,  33 /   1]]\n",
      "\n",
      "[[  1 /   1,   0 /   1,   0 /   1,   1 /   1],\n",
      " [  0 /   1,   1 /   1,   0 /   1,   2 /   1],\n",
      " [  0 /   1,   0 /   1,   1 /   1,   3 /   1]]\n",
      "\n"
     ]
    },
    {
     "data": {
      "text/plain": [
       "[1.0, 2.0, 3.0]"
      ]
     },
     "execution_count": 39,
     "metadata": {},
     "output_type": "execute_result"
    }
   ],
   "source": [
    "from fractions import Fraction\n",
    "\n",
    "def strr(row):\n",
    "  return '['+', '.join( \"%3d / %3d\" %(e.numerator,e.denominator) for e in row)+']'\n",
    "\n",
    "def strm(m):\n",
    "  return '['+',\\n '.join(strr(row) for row in m)+']\\n'\n",
    "\n",
    "def solve(m):\n",
    "  if not m: return list()\n",
    "  assert(all(len(row) == len(m)+1 for row in m))\n",
    "  m = list(list(Fraction(e) for e in row) for row in m)\n",
    "  #Solve first direction\n",
    "  print(strm(m))\n",
    "  for i in range(len(m)):\n",
    "    d = m[i][i]\n",
    "    assert(d)\n",
    "    #First make the diagonal 1\n",
    "    m[i] = list(e / d for e in m[i])\n",
    "    for j in range(len(m)):\n",
    "      if j == i: continue\n",
    "      d = m[j][i]\n",
    "      m[j] = list(e-f*d for e,f in zip(m[j],m[i]))\n",
    "    print(strm(m))\n",
    "  return list(float(m[i][len(m)]) for i in range(len(m)))\n",
    "\n",
    "solve([[1,-2,2,3],\n",
    "       [-1,1,1,4],\n",
    "       [2,2,-3,-3]])"
   ]
  },
  {
   "cell_type": "markdown",
   "id": "169838df",
   "metadata": {},
   "source": [
    "# Uppgift 2\n",
    "\n",
    "Addera sträckor\n",
    "\n",
    "G:\n",
    "\n",
    "Vi har följande punkter. <br>\n",
    "P = [0,0] <br>\n",
    "Q = [2,3] <br>\n",
    "R = [8,8] <br>\n",
    "\n",
    "Rita ut sträckan P till Q plus sträcka Q till R\n",
    "\n",
    "VG:\n",
    "\n",
    "Skapa en funktion som kan ta emot godtyckligt antal sträckor (i två dimensioner) och rita ut dem.\n"
   ]
  },
  {
   "cell_type": "markdown",
   "id": "2bc96a29-10fa-4137-8d17-78fea993ad4c",
   "metadata": {},
   "source": [
    "Räkna ut sträckorna med funktionen som är roten ur ((största x minus minsta x upphöjt till två) + (största y minus minsta y upphöjt till två)) "
   ]
  },
  {
   "cell_type": "code",
   "execution_count": 8,
   "id": "3f6336b4",
   "metadata": {},
   "outputs": [
    {
     "name": "stdout",
     "output_type": "stream",
     "text": [
      "Length P to Q: 3.605551275463989, Length of Q to R: 7.810249675906654\n",
      "Total length of all lengths: 11.415800951370644\n",
      "The length between P and R is: 11.313708498984761\n"
     ]
    },
    {
     "data": {
      "image/png": "[encoded data removed]",
      "text/plain": [
       "<Figure size 432x288 with 1 Axes>"
      ]
     },
     "metadata": {
      "needs_background": "light"
     },
     "output_type": "display_data"
    }
   ],
   "source": [
    "# G-part\n",
    "import matplotlib.pyplot as plt\n",
    "from math import sqrt\n",
    "\n",
    "P = [0, 0]\n",
    "Q = [2, 3]\n",
    "R = [8, 8]\n",
    "\n",
    "# PQ to mark order P to Q and QR to mark Q to R. \n",
    "PQ1 = sqrt(((Q[0] - P[0]) ** 2) + ((Q[1] - P[1]) ** 2))\n",
    "QR1 = sqrt(((R[0] - Q[0]) ** 2) + ((R[1] - Q[1]) ** 2))\n",
    "#Length of PQ and QR\n",
    "print(f'Length P to Q: {PQ1}, Length of Q to R: {QR1}')\n",
    "PQR = PQ1 + QR1\n",
    "print(f'Total length of all lengths: {PQR}')\n",
    "\n",
    "PR1 = sqrt(((R[0] - P[0]) ** 2) + ((R[1] - P[1]) ** 2))\n",
    "print(f'The length between P and R is: {PR1}')\n",
    "\n",
    "PQ2 = [[P[0], Q[0]], [P[1], Q[1]]]\n",
    "QR2 = [[Q[0], R[0]], [Q[1], R[1]]]\n",
    "PR2 = [[P[0], R[0]], [P[1], R[1]]]\n",
    "      \n",
    "plt.plot(PQ2[0], PQ2[1], 'b--', QR2[0], QR2[1], 'g--', PR2[0], PR2[1], 'y--')\n",
    "plt.title('P to Q in blue and Q to R in green and the line P to R in yellow') #reason for blue and green is so that colourblind people should be able to see. \n",
    "plt.grid(True)"
   ]
  },
  {
   "cell_type": "code",
   "execution_count": 88,
   "id": "21bc6c5d-e22d-494b-a2ff-d1dbd53115c6",
   "metadata": {},
   "outputs": [
    {
     "name": "stdout",
     "output_type": "stream",
     "text": [
      "[[1, 2], [3, 4]]\n"
     ]
    },
    {
     "data": {
      "image/png": "[encoded data removed]",
      "text/plain": [
       "<Figure size 432x288 with 1 Axes>"
      ]
     },
     "metadata": {
      "needs_background": "light"
     },
     "output_type": "display_data"
    }
   ],
   "source": [
    "# VG-part don't really have time to fix it due to not having much more time to solve it\n",
    "import matplotlib.pyplot as plt \n",
    "from math import sqrt\n",
    "\n",
    "a = [[1, 2], [3, 4]]\n",
    "addnplot_distances(a)\n",
    "\n",
    "def addnplot_distances(distances: list, sort=True) -> None:\n",
    "    if sort:\n",
    "        distances = sorted(distances, key=lambda x: x[0])\n",
    "    \n",
    "    distancevalues = []\n",
    "    print(distances)\n",
    "    #for each item in list check if the values are integers and if there is just two of them per values if so then add to list.     \n",
    "    for i in range(len(distances) - 1):\n",
    "        if isinstance(distances[i + 1][0], int) and isinstance(distances[i][0], int) and isinstance(distances[i + 1][1], int) and isinstance(distances[i][1], int) and len(distances[i]) == 2:\n",
    "            distancevalues.append([distances[i + 1][0], distances[i][0]])\n",
    "            distancevalues.append([distances[i + 1][1], distances[i][1]])\n",
    "            plt.text(int(distances[i][0]), int(distances[i][1]), f'. {int(distances[i][0]), int(distances[i][1])}')\n",
    "            if i == len(distances) - 2:\n",
    "                plt.text(int(distances[i + 1][0]), int(distances[i + 1][1]), f'. {int(distances[i + 1][0]), int(distances[i + 1][1])}')\n",
    "            \n",
    "        else:\n",
    "            values.clear()\n",
    "            print('Wrong format!')\n",
    "            break\n",
    "\n",
    "    if len(distancevalues) > 0:\n",
    "        plt.plot(distancevalues)\n",
    "        plt.yscale('linear')\n",
    "        plt.show()\n"
   ]
  },
  {
   "cell_type": "markdown",
   "id": "079f5b66-1b82-4041-a017-be32e6bbf5ec",
   "metadata": {},
   "source": [
    "Egen anteckning: matplotlib + addera sträckorna vektorer i planet"
   ]
  },
  {
   "cell_type": "markdown",
   "id": "5f9c19db",
   "metadata": {},
   "source": [
    "# Uppgift 3\n",
    "\n",
    "Addera vektorer\n",
    "\n",
    "Vi har vektorerna **u**  = (1,2,3), **v** = (2,2,2), **w** = (1,0,1,0,1) och **x** = (5,6,6,5,9)\n",
    "\n",
    "G:\n",
    "\n",
    "Beräkna  **u** + **v** och **w** + **x**\n",
    "\n",
    "VG:\n",
    "\n",
    "Skapa en funktion som kan ta en godtycklig mängd vektorer i godtycklig dimension och addera dem."
   ]
  },
  {
   "cell_type": "code",
   "execution_count": 14,
   "id": "0ca51f88",
   "metadata": {},
   "outputs": [
    {
     "name": "stdout",
     "output_type": "stream",
     "text": [
      "u+v=[3, 4, 5] and w+x=[6, 6, 7, 5, 10]\n"
     ]
    }
   ],
   "source": [
    "# G-part \n",
    "u = [1, 2, 3] \n",
    "v = [2, 2, 2] \n",
    "w = [1, 0, 1, 0, 1]\n",
    "x = [5, 6, 6, 5, 9] \n",
    "\n",
    "u_v = [u[i] + v[i] for i in range(len(v))]\n",
    "w_x = [w[i] + x[i] for i in range(len(x))] \n",
    "print(f'u+v={u_v} and w+x={w_x}')"
   ]
  },
  {
   "cell_type": "code",
   "execution_count": 53,
   "id": "178a83ec-92d3-44f1-a9ae-6ed90d1289e4",
   "metadata": {},
   "outputs": [
    {
     "name": "stdout",
     "output_type": "stream",
     "text": [
      "[3, 4, 5]\n",
      "[6, 6, 7, 5, 10]\n"
     ]
    }
   ],
   "source": [
    "# VG-part \n",
    "# to be filled in later\n",
    "\n",
    "import math\n",
    "\n",
    "def vsamelen(u,v):\n",
    "  if len(u) != len (v):\n",
    "    raise ValueError(\"Missmatching lengths\")\n",
    "\n",
    "def vadd(u,v):\n",
    "  vsamelen(u,v)\n",
    "  return [e+f for e,f in zip(u,v)]\n",
    "\n",
    "print(vadd([1,2,3],[2,2,2]))\n",
    "print(vadd([1,0,1,0,1],[5,6,6,5,9]))\n",
    "\n",
    "def vmagnsq(u):\n",
    "  return sum(e*e for e in u)\n",
    "\n",
    "def vmagn(u):\n",
    "  return math.sqrt(vmagnsq(u))\n",
    "\n",
    "#This one is more numerically stable\n",
    "def vanglerad(u,v):\n",
    "    dp = vdotprod(u,v)\n",
    "    return math.acos(math.copysign(math.sqrt((dp*dp)/(vmagnsq(u)*vmagnsq(v))),dp))\n",
    "\n",
    "RAD2DEGCONST = 180./math.pi\n",
    "\n",
    "def vangledeg(u,v):\n",
    "    return vanglerad(u,v)*RAD2DEGCONST\n"
   ]
  },
  {
   "cell_type": "markdown",
   "id": "e1200329-b740-4ef6-874d-0f3a57eb5c68",
   "metadata": {},
   "source": [
    "Egen anteckning: vektorer i rummet"
   ]
  },
  {
   "cell_type": "markdown",
   "id": "60ab81e2",
   "metadata": {},
   "source": [
    "# Uppgift 4\n",
    "\n",
    "Beräkna skalärprodukten\n",
    "\n",
    "Vi har vektorerna **u** = (0,2,3) och **v** = (0,4,6) som är parallella.\n",
    "\n",
    "G:\n",
    "\n",
    "Beräkna skalärprodukten av **u** och **v**\n",
    "\n",
    "VG:\n",
    "\n",
    "Skapa en funktion som beräknar skalärprodukten av två vektorer i godtycklig dimension som även tar hänsyn till vinkeln mellan vektorerna.\n",
    "Tips: Python har ett standardbibliotek *math* som har en funktion *cos* som kan användas här. Tänk på om vinkeln är i grader eller radianer."
   ]
  },
  {
   "cell_type": "code",
   "execution_count": 27,
   "id": "975a6aa1",
   "metadata": {},
   "outputs": [
    {
     "name": "stdout",
     "output_type": "stream",
     "text": [
      "Scalar product for [0, 2, 3] and [0, 4, 6] is 25.999999999999996 due to 13 square-root times 52 square-root times cos(0)\n"
     ]
    }
   ],
   "source": [
    "# G-part\n",
    "from math import sqrt, cos\n",
    "\n",
    "u = [0, 2, 3]\n",
    "v = [0, 4, 6] \n",
    "spu = 0\n",
    "spv = 0\n",
    "\n",
    "for i in range(len(v)):\n",
    "    spu += u[i] ** 2 \n",
    "    spv += v[i] ** 2\n",
    "\n",
    "spuv = (sqrt(spu) * sqrt(spv) * cos(0))\n",
    "print(f'Scalar product for {u} and {v} is {spuv} due to {spu} square-root times {spv} square-root times cos(0)')"
   ]
  },
  {
   "cell_type": "code",
   "execution_count": 70,
   "id": "65229c83-1d5d-4858-9f51-bea87d779ff9",
   "metadata": {},
   "outputs": [
    {
     "name": "stdout",
     "output_type": "stream",
     "text": [
      "26\n"
     ]
    }
   ],
   "source": [
    "# VG-part\n",
    "import math\n",
    "\n",
    "def vsamelen(u,v):\n",
    "  if len(u) != len (v):\n",
    "    raise ValueError(\"Missmatching lengths\")\n",
    "\n",
    "vsamelen([1,0,1],[1,2,3])\n",
    "\n",
    "def vdotprod(u,v):\n",
    "  vsamelen(u,v)\n",
    "  return sum(e*f for e,f in zip(u,v))\n",
    "\n",
    "print(vdotprod([0,2,3],[0,4,6]))\n",
    "\n",
    "def vmagnsq(u):\n",
    "  return sum(e*e for e in u)\n",
    "\n",
    "def vmagn(u):\n",
    "  return math.sqrt(vmagnsq(u))\n",
    "\n",
    "#This one is more numerically stable\n",
    "def vanglerad(u,v):\n",
    "    dp = vdotprod(u,v)\n",
    "    return math.acos(math.copysign(math.sqrt((dp*dp)/(vmagnsq(u)*vmagnsq(v))),dp))\n",
    "\n",
    "RAD2DEGCONST = 180./math.pi\n",
    "\n",
    "def vangledeg(u,v):\n",
    "    return vanglerad(u,v)*RAD2DEGCONST\n"
   ]
  },
  {
   "cell_type": "markdown",
   "id": "4d544183-4072-464d-849d-a9bdd22cea0a",
   "metadata": {},
   "source": [
    "Egen anteckning: skalärprodukt"
   ]
  },
  {
   "cell_type": "markdown",
   "id": "160f109b",
   "metadata": {},
   "source": [
    "# Uppgift 5\n",
    "\n",
    "Matrisaddition\n",
    "\n",
    "Vi har matriserna\n",
    "\n",
    "A\n",
    "\n",
    "$$\\begin{bmatrix} 1 & 2 \\\\ 3 & 2 \\end{bmatrix}$$\n",
    "\n",
    "B\n",
    "\n",
    "$$\\begin{bmatrix} 4 & 5 \\\\ 6 & 5 \\end{bmatrix}$$\n",
    "\n",
    "\n",
    "G:\n",
    "\n",
    "Beräkna A + B\n",
    "\n",
    "VG:\n",
    "\n",
    "Skapa en funktion som kan ta 2 matriser av godtycklig typ och addera.\n",
    "Tänk på att det inte alltid går att addera två matriser.\n"
   ]
  },
  {
   "cell_type": "code",
   "execution_count": 30,
   "id": "37ca32d3",
   "metadata": {},
   "outputs": [
    {
     "name": "stdout",
     "output_type": "stream",
     "text": [
      "[[5, 7], [9, 7]]\n"
     ]
    }
   ],
   "source": [
    "# G-part\n",
    "A = [[1, 2], [3, 2]]\n",
    "B = [[4, 5], [6, 5]]\n",
    "\n",
    "A_B = [[A[i][j] + B[i][j] for j, column in enumerate(row)] for i, row in enumerate(A)]\n",
    "print(A_B)"
   ]
  },
  {
   "cell_type": "code",
   "execution_count": 62,
   "id": "6ad2ef6b-2d91-4a38-933e-75f2f4675f84",
   "metadata": {},
   "outputs": [
    {
     "name": "stdout",
     "output_type": "stream",
     "text": [
      "Please input matrices one by one: \n"
     ]
    },
    {
     "name": "stdin",
     "output_type": "stream",
     "text": [
      " 1,2,3,2\n",
      " 4,5,6,5\n"
     ]
    },
    {
     "name": "stdout",
     "output_type": "stream",
     "text": [
      "[['14'], [',,'], ['25'], [',,'], ['36'], [',,'], ['25']]\n"
     ]
    }
   ],
   "source": [
    "# VG-part\n",
    "def ismatrix(a):\n",
    "  if a and any(len(r) != len(a[0]) for r in a):\n",
    "    raise ValueError(\"Argument is not a matrix\")\n",
    "\n",
    "def mwidth(a):\n",
    "  return len(a[0]) if a else 0\n",
    "\n",
    "def madd(a,b):\n",
    "  ismatrix(a)\n",
    "  ismatrix(b)\n",
    "  if len(a) != len(b) or mwidth(a) != mwidth(b):\n",
    "    raise ValueError(\"Matrix sizes differ\")\n",
    "  return [ [ e+f for e,f in zip(r,s)] for r,s in zip(a,b) ]\n",
    "\n",
    "madd([[1,2],[3,2]],[[4,5],[6,5]])\n",
    "madd([[1]],[[1]])\n",
    "madd([],[])\n",
    "\n",
    "print(f'Please input matrices one by one: ')\n",
    "a = input()\n",
    "b = input() \n",
    "print(madd(a,b))"
   ]
  },
  {
   "cell_type": "markdown",
   "id": "fb7cbfc7-2a0e-4cab-b3cf-dc411a7e860c",
   "metadata": {},
   "source": [
    "Egen anteckning: använd lite snarlikt det som jag tänkte ha för uppgift 1 men annorlunda"
   ]
  },
  {
   "cell_type": "markdown",
   "id": "ba16e9de",
   "metadata": {},
   "source": [
    "# Uppgift 6\n",
    "\n",
    "Matrismultiplikation\n",
    "\n",
    "Vi har matriserna\n",
    "\n",
    "A\n",
    "\n",
    "$$\\begin{bmatrix} 1 & 2 \\\\ 3 & 2 \\\\ 1 & 3 \\end{bmatrix}$$\n",
    "\n",
    "B\n",
    "\n",
    "$$\\begin{bmatrix} 4 & 5 & 6 \\\\ 6 & 5 & 4 \\end{bmatrix}$$\n",
    "\n",
    "\n",
    "G:\n",
    "\n",
    "Vad blir AB? <br>\n",
    "Samt skriv ut typen på matrisen AB.\n",
    "\n",
    "VG:\n",
    "\n",
    "Skapa en funktion som multiplicerar två st godtyckliga matriser. <br>\n",
    "Skriv ut typen på den multiplicerade matrisen eller om det inte går att multiplicera matriserna."
   ]
  },
  {
   "cell_type": "code",
   "execution_count": 33,
   "id": "dbc2598b",
   "metadata": {},
   "outputs": [
    {
     "name": "stdout",
     "output_type": "stream",
     "text": [
      "[[16, 15, 14], [24, 25, 26], [22, 20, 18]]\n"
     ]
    }
   ],
   "source": [
    "# G-part\n",
    "A = [\n",
    "    [1, 2],\n",
    "    [3, 2], \n",
    "    [1, 3]\n",
    "]\n",
    "\n",
    "B = [\n",
    "    [4, 5, 6],\n",
    "    [6, 5, 4]\n",
    "]\n",
    "\n",
    "AB = [[0 for _ in range(len(B[0]))] for _ in range(len(A))]\n",
    "\n",
    "for i, _ in enumerate(A):\n",
    "    for j, row in enumerate(B):\n",
    "        for k, column in enumerate(row):\n",
    "            AB[i][k] += (A[i][j] * B[j][k])\n",
    "            \n",
    "print(AB)"
   ]
  },
  {
   "cell_type": "code",
   "execution_count": 69,
   "id": "96bd71e2-6ae1-443b-a20d-30268d0841c1",
   "metadata": {},
   "outputs": [
    {
     "name": "stdout",
     "output_type": "stream",
     "text": [
      "[[16, 15, 14], [24, 25, 26], [22, 20, 18]]\n"
     ]
    }
   ],
   "source": [
    "# VG-part\n",
    "\n",
    "def ismatrix(a):\n",
    "  if a and any(len(r) != len(a[0]) for r in a):\n",
    "    raise ValueError(\"Argument is not a matrix\")\n",
    "\n",
    "def mwidth(a):\n",
    "  return len(a[0]) if a else 0\n",
    "\n",
    "def get_col(a,p):\n",
    "  for r in a:\n",
    "    yield r[p]\n",
    "\n",
    "def mmul(a,b):\n",
    "  ismatrix(a)\n",
    "  ismatrix(b)\n",
    "  if mwidth(a) != len(b):\n",
    "    raise ValueError(\"Matrix a width must be the same as matrix b length\")\n",
    "  return [ [ sum(e*f for e,f in zip(r,get_col(b,i))) for i in range(mwidth(b))] for r in a ]\n",
    "\n",
    "A = [\n",
    "    [1, 2],\n",
    "    [3, 2], \n",
    "    [1, 3]\n",
    "]\n",
    "\n",
    "B = [\n",
    "    [4, 5, 6],\n",
    "    [6, 5, 4]\n",
    "]\n",
    "\n",
    "print(mmul(A,B))"
   ]
  },
  {
   "cell_type": "markdown",
   "id": "76e26ad3-9714-4ecd-b6ac-c91339c69c05",
   "metadata": {},
   "source": [
    "Egen anteckning: se uppgift 1 men gör lite annorlunda"
   ]
  }
 ],
 "metadata": {
  "kernelspec": {
   "display_name": "Python 3 (ipykernel)",
   "language": "python",
   "name": "python3"
  },
  "language_info": {
   "codemirror_mode": {
    "name": "ipython",
    "version": 3
   },
   "file_extension": ".py",
   "mimetype": "text/x-python",
   "name": "python",
   "nbconvert_exporter": "python",
   "pygments_lexer": "ipython3",
   "version": "3.8.12"
  }
 },
 "nbformat": 4,
 "nbformat_minor": 5
}

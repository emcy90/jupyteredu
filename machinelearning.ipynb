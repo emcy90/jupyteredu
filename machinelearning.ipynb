{
 "cells": [
  {
   "cell_type": "markdown",
   "id": "4cf1c48d-6eac-4b8b-8fb3-7e004b71fbbd",
   "metadata": {},
   "source": [
    "<h1> Pandas <h1>"
   ]
  },
  {
   "cell_type": "markdown",
   "id": "a0ccb225-df99-4eea-b7ce-f7d500cbc703",
   "metadata": {},
   "source": []
  }
 ],
 "metadata": {
  "kernelspec": {
   "display_name": "Python 3 (ipykernel)",
   "language": "python",
   "name": "python3"
  },
  "language_info": {
   "codemirror_mode": {
    "name": "ipython",
    "version": 3
   },
   "file_extension": ".py",
   "mimetype": "text/x-python",
   "name": "python",
   "nbconvert_exporter": "python",
   "pygments_lexer": "ipython3",
   "version": "3.8.12"
  }
 },
 "nbformat": 4,
 "nbformat_minor": 5
}

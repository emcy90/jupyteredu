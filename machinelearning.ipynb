{
 "cells": [
  {
   "cell_type": "markdown",
   "id": "3111badc-ffb7-4238-babe-6c9531a0ae9b",
   "metadata": {},
   "source": [
    "<h1>General<h1>"
   ]
  },
  {
   "cell_type": "markdown",
   "id": "1fc79866-4329-45c1-b688-690b88d72653",
   "metadata": {},
   "source": [
    "First handin for the course is by using jupyter notebook to solve 6 tasks. Not allowed to use numpy etc. to solve the tasks. python standard math-library is allowed but not numpy etc. as it would be to easy. Second handin for the course was to do "
   ]
  },
  {
   "cell_type": "markdown",
   "id": "213b1ca9-f0e6-4b57-b098-99bacd4fff85",
   "metadata": {},
   "source": [
    "<h1>Matplotlib<h1>"
   ]
  },
  {
   "cell_type": "markdown",
   "id": "91c15026-cd59-40ff-9a2d-214e263284bc",
   "metadata": {},
   "source": [
    "Install matplotlib in conda terminal by writing conda install matplotlib. (not included in standard conda env has to be installed.)\n",
    "\n",
    "import matplotlib.pyplot as plt\n",
    "\n",
    "\n",
    "\n",
    "x1 = [P[0], Q[0]]\n",
    "y1 = [P[1], Q[1]]\n",
    "\n",
    "plt.plot(x1, y1) etc. "
   ]
  },
  {
   "cell_type": "markdown",
   "id": "4cf1c48d-6eac-4b8b-8fb3-7e004b71fbbd",
   "metadata": {},
   "source": [
    "<h1> Pandas <h1>"
   ]
  },
  {
   "cell_type": "markdown",
   "id": "a0ccb225-df99-4eea-b7ce-f7d500cbc703",
   "metadata": {},
   "source": [
    "Install pandas in conda terminal by writing: conda install pandas and when prompted with proceed question select y. "
   ]
  },
  {
   "cell_type": "markdown",
   "id": "fc69f91d-995a-4266-bac7-25ad8b4623e8",
   "metadata": {},
   "source": [
    "<h1>Scikit-learning<h1>"
   ]
  },
  {
   "cell_type": "markdown",
   "id": "51d9be1b-3173-4e42-98af-9ba6d08b8697",
   "metadata": {},
   "source": [
    "Install scikit-learn in conda terminal by writing: conda install scikit-learn and when prompted proceed question select y. Also install scikit-learn-intelex by writing conda install scikit-learn-intelex "
   ]
  },
  {
   "cell_type": "markdown",
   "id": "1abde13e-1eb7-4321-b8c2-9312bc4c5eb7",
   "metadata": {},
   "source": [
    "<h1>Machine learning and deep learning<h1>"
   ]
  },
  {
   "cell_type": "markdown",
   "id": "0ad800bb-2bc1-43a9-a77c-74c6473bd030",
   "metadata": {},
   "source": [
    "test pluralsights-account during course\n",
    "\n",
    "unsupervised learning chess where it just gets small amount of info and has to learn the rest\n",
    "supervised learning \n",
    "\n",
    "amazon-reviews where by checking the text to determine if positive, neutral or negative, discover patterns in review. \n",
    "x -> func() -> y\n",
    "\n",
    "training x \n",
    "training y \n",
    "test x \n",
    "test y\n",
    "\n",
    "two datasets \n",
    "jupyter lab + pandas \n"
   ]
  },
  {
   "cell_type": "markdown",
   "id": "7c90d2fb-bd64-40cf-ac14-88b5048b86df",
   "metadata": {},
   "source": [
    "titanic classic dataset is incomplete not all passenger included and not all crew is included but cabin-info is available \n",
    "\n",
    "another titanic set has more complete crew and passenger manifest but doesn't include names and lacks some information \n",
    "\n",
    "conda install seaborn for heatmap etc "
   ]
  },
  {
   "cell_type": "markdown",
   "id": "a2ecbdab-58a3-49f5-93db-27b896c1206b",
   "metadata": {},
   "source": [
    "<h1>NLP natural language processing<h1>"
   ]
  },
  {
   "cell_type": "markdown",
   "id": "53b7a8cb-f1f0-4c34-baeb-9a435d9c7bdf",
   "metadata": {},
   "source": [
    "count vectorizer <br>\n",
    "scikit-learn <br>\n",
    "bag-of-words <br>\n",
    "from sklearn.feature_extraction.text import CountVectorizor <br>\n",
    "ngram.range(1, 3)<br>\n",
    "chapter 4 page 81 in hands-on-naturallanguageprocessingwithpython <br>\n",
    "sklearn.svm import SVC (support vector classifier) \n",
    "\n",
    "clf for classifier <br>\n",
    "clf_svm (to hint that it's a classifier that is using support vector classifier)\n",
    "\n",
    "clf_svm.fit <br>\n",
    "clf_svm.score <br>\n",
    "\n",
    "take a big dataset and split it into two pieces to train on and test on.  example 2 reviews to practice on and then 2 reviews to test how good it is on it. \n",
    "\n",
    "use seeds. \n",
    "\n",
    "pip install contractions in jupyter notebook<br>\n",
    "import contractions <br>\n",
    "import re \n",
    "\n",
    "stopwords + language to find a list of stopwords to use for processing \n",
    "\n",
    "amazon review dataset <br>\n",
    "pets_df = pd.read_json(\"pet_supplies_100.json\", line=True)\n",
    "\n"
   ]
  },
  {
   "cell_type": "markdown",
   "id": "020eb8e9-09e6-4057-90bd-6ea9d217e82c",
   "metadata": {},
   "source": [
    "more data better results... (obviously)<br>\n",
    "logisticregression <br>\n",
    "book for the course is python machine learning 3rd edition from packt publishing <br>\n",
    "we tend to build in our own bias in machine-learning <br> \n",
    "assignment to use datasets about body-measurement and check the data and classify columns to create new datasets for sizings <br>\n",
    "use length and weight to determine size for clothing <br> \n",
    "maybe use a graph to help aid in the assignment <br> \n",
    "k-means nearest neighbour <br> \n",
    "delta-x and delta-y and pythagoras <br>\n",
    "https://github.com/KYH-Gothenburg/BodyMeasurement (repos used by multiple programs) <br> \n"
   ]
  },
  {
   "cell_type": "markdown",
   "id": "13ada0c3-5e13-4ac4-89cc-da4f11950adb",
   "metadata": {},
   "source": [
    "do comprehension as follows: chests = [c/10 for c in df.chestcircumference.tolist()] <br>\n",
    "predicting size based on dataset but for most <br>\n",
    "test extremes <br>\n",
    "make a list with k-values, test with prime numbers but not all of them, or use square-root of the total number of rows of data has. <br>\n",
    "k nearest neighbour is a lazy algorithm and doesn't require training <br>\n",
    "over-fitting is a problem, regression issues, classification problems and so on. "
   ]
  },
  {
   "cell_type": "markdown",
   "id": "acdcfde0-e76e-4ade-8100-98b14874d148",
   "metadata": {},
   "source": [
    "for project: find out where to find data and check data-quality and what kind of output do we want from the dataset. <br>\n",
    "presentation: verbal and powerpoint <br>\n",
    "classification algorithms: knn, svm, logistic regression, Naïve Bayes, decission tree <br>\n",
    "regression algorithms: linear regression, decission tree, <br>\n",
    "\n",
    "https://www.analyticssteps.com/blogs/top-classification-algorithms-using-python <br>\n",
    "https://towardsdatascience.com/7-of-the-most-commonly-used-regression-algorithms-and-how-to-choose-the-right-one-fc3c8890f9e3 <br>\n"
   ]
  },
  {
   "cell_type": "markdown",
   "id": "085ac957-389e-471a-934d-1082debc40b4",
   "metadata": {},
   "source": [
    "where is the data from? <br> \n",
    "is there a commercial purpose behind it? <br>\n",
    "quality of the data? <br> \n",
    "\n",
    "we have x what do we want to do with it / we have this idea we need x to do it <br> \n",
    "do EDA on the data you have <br> \n",
    "what do we want to accomplish? <br> \n",
    "what kind of patterns are needed? classification issue etc. reinforcement learning <br> \n",
    "\n",
    "work agile during project you know scrum <br>\n",
    "breakdown tasks into smaller tasks so that tasks have estimates of around 2 hours <br> \n",
    "make it clear in documentation from meetings so that anybody can know what they are supposed to do even if they missed the meeting <br> \n",
    "give issues casenumbers/casetitle <br> \n",
    "if finished with daily tasks check if someone else needs help otherwise go to backlog but make sure it doesn't interfer with others, leave no trace principle leave code in better shape than it was. <br> \n",
    "code-review CICD<br>\n",
    "pairprogramming - change seats approx 20 min <br> \n",
    "\n",
    "internal communication <br> \n",
    "set working-hours for the project <br> \n",
    "how to work in the project <br> \n",
    "where <br> \n",
    "who sets up the github repos <br> \n",
    "backlog-method documentation <br> \n",
    "\n",
    "week 15 mon and wed\n",
    "week 16 wed and fri \n",
    "week 17 wed and fri \n",
    "week 18 mon and wed \n",
    "week 19 wed and fri \n",
    "week 20 wed and fri\n",
    "week 21 tues and wed \n",
    "week 22 mon and tues "
   ]
  },
  {
   "cell_type": "markdown",
   "id": "04a85c0b-84b0-426b-8828-47fa90e80291",
   "metadata": {},
   "source": [
    "https://blogs.sas.com/content/subconsciousmusings/files/2017/04/machine-learning-cheet-sheet-2.png \n"
   ]
  }
 ],
 "metadata": {
  "kernelspec": {
   "display_name": "Python 3 (ipykernel)",
   "language": "python",
   "name": "python3"
  },
  "language_info": {
   "codemirror_mode": {
    "name": "ipython",
    "version": 3
   },
   "file_extension": ".py",
   "mimetype": "text/x-python",
   "name": "python",
   "nbconvert_exporter": "python",
   "pygments_lexer": "ipython3",
   "version": "3.8.12"
  }
 },
 "nbformat": 4,
 "nbformat_minor": 5
}

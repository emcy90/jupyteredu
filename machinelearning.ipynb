{
 "cells": [
  {
   "cell_type": "markdown",
   "id": "3111badc-ffb7-4238-babe-6c9531a0ae9b",
   "metadata": {},
   "source": [
    "<h1>General<h1>"
   ]
  },
  {
   "cell_type": "markdown",
   "id": "1fc79866-4329-45c1-b688-690b88d72653",
   "metadata": {},
   "source": [
    "First handin for the course is by using jupyter notebook to solve 6 tasks. Not allowed to use numpy etc. to solve the tasks. python standard math-library is allowed but not numpy etc. as it would be to easy. Second handin for the course was to do "
   ]
  },
  {
   "cell_type": "markdown",
   "id": "213b1ca9-f0e6-4b57-b098-99bacd4fff85",
   "metadata": {},
   "source": [
    "<h1>Matplotlib<h1>"
   ]
  },
  {
   "cell_type": "markdown",
   "id": "91c15026-cd59-40ff-9a2d-214e263284bc",
   "metadata": {},
   "source": [
    "Install matplotlib in conda terminal by writing conda install matplotlib. (not included in standard conda env has to be installed.)\n",
    "\n",
    "import matplotlib.pyplot as plt\n",
    "\n",
    "\n",
    "\n",
    "x1 = [P[0], Q[0]]\n",
    "y1 = [P[1], Q[1]]\n",
    "\n",
    "plt.plot(x1, y1) etc. "
   ]
  },
  {
   "cell_type": "markdown",
   "id": "4cf1c48d-6eac-4b8b-8fb3-7e004b71fbbd",
   "metadata": {},
   "source": [
    "<h1> Pandas <h1>"
   ]
  },
  {
   "cell_type": "markdown",
   "id": "a0ccb225-df99-4eea-b7ce-f7d500cbc703",
   "metadata": {},
   "source": [
    "Install pandas in conda terminal by writing: conda install pandas and when prompted with proceed question select y. "
   ]
  },
  {
   "cell_type": "markdown",
   "id": "fc69f91d-995a-4266-bac7-25ad8b4623e8",
   "metadata": {},
   "source": [
    "<h1>Scikit-learning<h1>"
   ]
  },
  {
   "cell_type": "markdown",
   "id": "51d9be1b-3173-4e42-98af-9ba6d08b8697",
   "metadata": {},
   "source": [
    "Install scikit-learn in conda terminal by writing: conda install scikit-learn and when prompted proceed question select y. Also install scikit-learn-intelex by writing conda install scikit-learn-intelex "
   ]
  },
  {
   "cell_type": "markdown",
   "id": "1abde13e-1eb7-4321-b8c2-9312bc4c5eb7",
   "metadata": {},
   "source": [
    "<h1>Machine learning and deep learning<h1>"
   ]
  },
  {
   "cell_type": "markdown",
   "id": "0ad800bb-2bc1-43a9-a77c-74c6473bd030",
   "metadata": {},
   "source": [
    "test pluralsights-account during course\n",
    "\n",
    "unsupervised learning chess where it just gets small amount of info and has to learn the rest\n",
    "supervised learning \n",
    "\n",
    "amazon-reviews where by checking the text to determine if positive, neutral or negative, discover patterns in review. \n",
    "x -> func() -> y\n",
    "\n",
    "training x \n",
    "training y \n",
    "test x \n",
    "test y\n",
    "\n",
    "two datasets \n",
    "jupyter lab + pandas \n"
   ]
  },
  {
   "cell_type": "markdown",
   "id": "7c90d2fb-bd64-40cf-ac14-88b5048b86df",
   "metadata": {},
   "source": [
    "titanic classic dataset is incomplete not all passenger included and not all crew is included but cabin-info is available \n",
    "\n",
    "another titanic set has more complete crew and passenger manifest but doesn't include names and lacks some information \n",
    "\n",
    "conda install seaborn for heatmap etc "
   ]
  },
  {
   "cell_type": "markdown",
   "id": "a2ecbdab-58a3-49f5-93db-27b896c1206b",
   "metadata": {},
   "source": [
    "<h1>NLP natural language processing<h1>"
   ]
  },
  {
   "cell_type": "markdown",
   "id": "53b7a8cb-f1f0-4c34-baeb-9a435d9c7bdf",
   "metadata": {},
   "source": [
    "count vectorizer \n",
    "scikit-learn \n",
    "bag-of-words \n",
    "from sklearn.feature_extraction.text import CountVectorizor\n",
    "ngram.range(1, 3)\n",
    "chapter 4 page 81 in hands-on-naturallanguageprocessingwithpython \n",
    "sklearn.svm import SVC (support vector classifier) \n",
    "\n",
    "clf for classifier \n",
    "clf_svm (to hint that it's a classifier that is using support vector classifier)\n",
    "\n",
    "clf_svm.fit \n",
    "clf_svm.score \n",
    "\n",
    "take a big dataset and split it into two pieces to train on and test on.  example 2 reviews to practice on and then 2 reviews to test how good it is on it. \n",
    "\n",
    "use seeds. \n",
    "\n",
    "c install contractions "
   ]
  }
 ],
 "metadata": {
  "kernelspec": {
   "display_name": "Python 3 (ipykernel)",
   "language": "python",
   "name": "python3"
  },
  "language_info": {
   "codemirror_mode": {
    "name": "ipython",
    "version": 3
   },
   "file_extension": ".py",
   "mimetype": "text/x-python",
   "name": "python",
   "nbconvert_exporter": "python",
   "pygments_lexer": "ipython3",
   "version": "3.8.12"
  }
 },
 "nbformat": 4,
 "nbformat_minor": 5
}

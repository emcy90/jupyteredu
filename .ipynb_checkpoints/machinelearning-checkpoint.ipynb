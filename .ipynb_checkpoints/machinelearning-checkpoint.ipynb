{
 "cells": [
  {
   "cell_type": "markdown",
   "id": "4cf1c48d-6eac-4b8b-8fb3-7e004b71fbbd",
   "metadata": {},
   "source": [
    "<h1> Pandas <h1>"
   ]
  },
  {
   "cell_type": "markdown",
   "id": "a0ccb225-df99-4eea-b7ce-f7d500cbc703",
   "metadata": {},
   "source": [
    "Install pandas in conda terminal by writing: conda install pandas and when prompted with proceed question select y. "
   ]
  },
  {
   "cell_type": "markdown",
   "id": "fc69f91d-995a-4266-bac7-25ad8b4623e8",
   "metadata": {},
   "source": [
    "<h1>Scikit-learning<h1>"
   ]
  },
  {
   "cell_type": "markdown",
   "id": "51d9be1b-3173-4e42-98af-9ba6d08b8697",
   "metadata": {},
   "source": [
    "Install scikit-learn in conda terminal by writing: conda install scikit-learn and when prompted proceed question select y. Also install scikit-learn-intelex by writing conda install scikit-learn-intelex "
   ]
  }
 ],
 "metadata": {
  "kernelspec": {
   "display_name": "Python 3 (ipykernel)",
   "language": "python",
   "name": "python3"
  },
  "language_info": {
   "codemirror_mode": {
    "name": "ipython",
    "version": 3
   },
   "file_extension": ".py",
   "mimetype": "text/x-python",
   "name": "python",
   "nbconvert_exporter": "python",
   "pygments_lexer": "ipython3",
   "version": "3.8.12"
  }
 },
 "nbformat": 4,
 "nbformat_minor": 5
}

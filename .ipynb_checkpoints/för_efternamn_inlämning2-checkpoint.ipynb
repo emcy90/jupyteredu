{
 "cells": [
  {
   "cell_type": "code",
   "execution_count": 1,
   "id": "2f219a2a",
   "metadata": {},
   "outputs": [],
   "source": [
    "from sklearn.datasets import load_iris\n",
    "from sklearn.decomposition import PCA\n",
    "from sklearn.cluster import KMeans\n",
    "import matplotlib.pyplot as plt\n",
    "import plotly\n",
    "import plotly.graph_objs as go\n",
    "\n",
    "import pandas as pd"
   ]
  },
  {
   "cell_type": "code",
   "execution_count": 2,
   "id": "2ef57521",
   "metadata": {},
   "outputs": [],
   "source": [
    "def pca_transformation(data):\n",
    "    pca = PCA(n_components=2)\n",
    "    principal_components = pca.fit_transform(data)\n",
    "    principal_df = pd.DataFrame(data = principal_components, columns = ['pc1', 'pc2'])\n",
    "    return principal_df"
   ]
  },
  {
   "cell_type": "code",
   "execution_count": 3,
   "id": "be145b29",
   "metadata": {},
   "outputs": [],
   "source": [
    "def get_iris_dataset():\n",
    "    iris_data=load_iris()\n",
    "    iris_df = pd.DataFrame(iris_data.data, columns = [\"sepal_length\", \"sepal_width\", \"petal_length\", \"petal_width\"])\n",
    "    return iris_df"
   ]
  },
  {
   "cell_type": "code",
   "execution_count": 4,
   "id": "2c63474d-acea-4be7-9876-fbbd047c6a26",
   "metadata": {},
   "outputs": [],
   "source": [
    "iris_data = get_iris_dataset()\n",
    "temp_iris = iris_data.drop(columns=[\"sepal_length\", \"sepal_width\"], axis=1)"
   ]
  },
  {
   "cell_type": "code",
   "execution_count": 5,
   "id": "d1f7c0da",
   "metadata": {},
   "outputs": [
    {
     "data": {
      "text/plain": [
       "<bound method NDFrame.head of      sepal_length  sepal_width  petal_length  petal_width\n",
       "0             5.1          3.5           1.4          0.2\n",
       "1             4.9          3.0           1.4          0.2\n",
       "2             4.7          3.2           1.3          0.2\n",
       "3             4.6          3.1           1.5          0.2\n",
       "4             5.0          3.6           1.4          0.2\n",
       "..            ...          ...           ...          ...\n",
       "145           6.7          3.0           5.2          2.3\n",
       "146           6.3          2.5           5.0          1.9\n",
       "147           6.5          3.0           5.2          2.0\n",
       "148           6.2          3.4           5.4          2.3\n",
       "149           5.9          3.0           5.1          1.8\n",
       "\n",
       "[150 rows x 4 columns]>"
      ]
     },
     "execution_count": 5,
     "metadata": {},
     "output_type": "execute_result"
    }
   ],
   "source": [
    "iris_data.shape #the dataset consists of 150 rows and 4 columns based on this\n",
    "iris_data.head #first column is sepal length in cm followed by sepal width, petal length and petal width (all in cm)"
   ]
  },
  {
   "cell_type": "code",
   "execution_count": 6,
   "id": "ebb78633-ea84-415c-8595-03c39f6e5bdf",
   "metadata": {},
   "outputs": [
    {
     "data": {
      "text/plain": [
       "(150, 2)"
      ]
     },
     "execution_count": 6,
     "metadata": {},
     "output_type": "execute_result"
    }
   ],
   "source": [
    "temp_iris.shape"
   ]
  },
  {
   "cell_type": "code",
   "execution_count": 7,
   "id": "8c85c6e8-0225-4158-98e3-24d533c00bee",
   "metadata": {},
   "outputs": [
    {
     "data": {
      "text/html": [
       "<div>\n",
       "<style scoped>\n",
       "    .dataframe tbody tr th:only-of-type {\n",
       "        vertical-align: middle;\n",
       "    }\n",
       "\n",
       "    .dataframe tbody tr th {\n",
       "        vertical-align: top;\n",
       "    }\n",
       "\n",
       "    .dataframe thead th {\n",
       "        text-align: right;\n",
       "    }\n",
       "</style>\n",
       "<table border=\"1\" class=\"dataframe\">\n",
       "  <thead>\n",
       "    <tr style=\"text-align: right;\">\n",
       "      <th></th>\n",
       "      <th>sepal_length</th>\n",
       "      <th>sepal_width</th>\n",
       "      <th>petal_length</th>\n",
       "      <th>petal_width</th>\n",
       "    </tr>\n",
       "  </thead>\n",
       "  <tbody>\n",
       "    <tr>\n",
       "      <th>count</th>\n",
       "      <td>150.000000</td>\n",
       "      <td>150.000000</td>\n",
       "      <td>150.000000</td>\n",
       "      <td>150.000000</td>\n",
       "    </tr>\n",
       "    <tr>\n",
       "      <th>mean</th>\n",
       "      <td>5.843333</td>\n",
       "      <td>3.057333</td>\n",
       "      <td>3.758000</td>\n",
       "      <td>1.199333</td>\n",
       "    </tr>\n",
       "    <tr>\n",
       "      <th>std</th>\n",
       "      <td>0.828066</td>\n",
       "      <td>0.435866</td>\n",
       "      <td>1.765298</td>\n",
       "      <td>0.762238</td>\n",
       "    </tr>\n",
       "    <tr>\n",
       "      <th>min</th>\n",
       "      <td>4.300000</td>\n",
       "      <td>2.000000</td>\n",
       "      <td>1.000000</td>\n",
       "      <td>0.100000</td>\n",
       "    </tr>\n",
       "    <tr>\n",
       "      <th>25%</th>\n",
       "      <td>5.100000</td>\n",
       "      <td>2.800000</td>\n",
       "      <td>1.600000</td>\n",
       "      <td>0.300000</td>\n",
       "    </tr>\n",
       "    <tr>\n",
       "      <th>50%</th>\n",
       "      <td>5.800000</td>\n",
       "      <td>3.000000</td>\n",
       "      <td>4.350000</td>\n",
       "      <td>1.300000</td>\n",
       "    </tr>\n",
       "    <tr>\n",
       "      <th>75%</th>\n",
       "      <td>6.400000</td>\n",
       "      <td>3.300000</td>\n",
       "      <td>5.100000</td>\n",
       "      <td>1.800000</td>\n",
       "    </tr>\n",
       "    <tr>\n",
       "      <th>max</th>\n",
       "      <td>7.900000</td>\n",
       "      <td>4.400000</td>\n",
       "      <td>6.900000</td>\n",
       "      <td>2.500000</td>\n",
       "    </tr>\n",
       "  </tbody>\n",
       "</table>\n",
       "</div>"
      ],
      "text/plain": [
       "       sepal_length  sepal_width  petal_length  petal_width\n",
       "count    150.000000   150.000000    150.000000   150.000000\n",
       "mean       5.843333     3.057333      3.758000     1.199333\n",
       "std        0.828066     0.435866      1.765298     0.762238\n",
       "min        4.300000     2.000000      1.000000     0.100000\n",
       "25%        5.100000     2.800000      1.600000     0.300000\n",
       "50%        5.800000     3.000000      4.350000     1.300000\n",
       "75%        6.400000     3.300000      5.100000     1.800000\n",
       "max        7.900000     4.400000      6.900000     2.500000"
      ]
     },
     "execution_count": 7,
     "metadata": {},
     "output_type": "execute_result"
    }
   ],
   "source": [
    "iris_data.describe()"
   ]
  },
  {
   "cell_type": "code",
   "execution_count": 8,
   "id": "21399b56-bc63-476b-9a93-4a85c23b508f",
   "metadata": {},
   "outputs": [
    {
     "data": {
      "text/plain": [
       "<AxesSubplot:xlabel='petal_length', ylabel='petal_width'>"
      ]
     },
     "execution_count": 8,
     "metadata": {},
     "output_type": "execute_result"
    },
    {
     "data": {
      "image/png": "[encoded data removed]",
      "text/plain": [
       "<Figure size 432x288 with 1 Axes>"
      ]
     },
     "metadata": {
      "needs_background": "light"
     },
     "output_type": "display_data"
    }
   ],
   "source": [
    "iris_data.plot(kind=\"scatter\", x=\"petal_length\", y=\"petal_width\")"
   ]
  },
  {
   "cell_type": "markdown",
   "id": "b19874c2-1f3f-4b93-b5de-43fa967fd75d",
   "metadata": {},
   "source": [
    "Going with petal length and petal width because the plots is a lot easier to see and divide into groups. "
   ]
  },
  {
   "cell_type": "code",
   "execution_count": 9,
   "id": "fbff3f2b-b393-4bb9-93c2-ea5a68390be4",
   "metadata": {},
   "outputs": [],
   "source": [
    "def iris_data_kmeans(data): \n",
    "    kmeans = KMeans(n_clusters=3)\n",
    "    kmeans.fit(data)\n",
    "    data[\"class\"] = kmeans.labels_"
   ]
  },
  {
   "cell_type": "code",
   "execution_count": 10,
   "id": "4fbf2d4d-0a6f-4492-baaa-61a88b1f799b",
   "metadata": {},
   "outputs": [],
   "source": [
    "iris_data_kmeans(temp_iris)"
   ]
  },
  {
   "cell_type": "code",
   "execution_count": 11,
   "id": "83d27450-4bda-4f7b-a648-9ac80fedc5d5",
   "metadata": {},
   "outputs": [
    {
     "data": {
      "text/plain": [
       "<matplotlib.collections.PathCollection at 0x201faa06130>"
      ]
     },
     "execution_count": 11,
     "metadata": {},
     "output_type": "execute_result"
    },
    {
     "data": {
      "image/png": "[encoded data removed]",
      "text/plain": [
       "<Figure size 432x288 with 1 Axes>"
      ]
     },
     "metadata": {
      "needs_background": "light"
     },
     "output_type": "display_data"
    }
   ],
   "source": [
    "plt.scatter(x=temp_iris[\"petal_length\"], y=temp_iris[\"petal_width\"], c=temp_iris[\"class\"])"
   ]
  },
  {
   "cell_type": "code",
   "execution_count": 12,
   "id": "dc3bb2e7-f51d-4b07-88f0-6d51a17e8f71",
   "metadata": {},
   "outputs": [
    {
     "data": {
      "text/plain": [
       "<AxesSubplot:xlabel='sepal_length', ylabel='sepal_width'>"
      ]
     },
     "execution_count": 12,
     "metadata": {},
     "output_type": "execute_result"
    },
    {
     "data": {
      "image/png": "[encoded data removed]",
      "text/plain": [
       "<Figure size 432x288 with 1 Axes>"
      ]
     },
     "metadata": {
      "needs_background": "light"
     },
     "output_type": "display_data"
    }
   ],
   "source": [
    "# sepal length and sepal width plot\n",
    "iris_data.plot(kind=\"scatter\", x=\"sepal_length\", y=\"sepal_width\")"
   ]
  },
  {
   "cell_type": "code",
   "execution_count": 13,
   "id": "d17d556d-bed7-4d2e-bb49-e1dc10b29142",
   "metadata": {},
   "outputs": [
    {
     "data": {
      "text/plain": [
       "<AxesSubplot:xlabel='sepal_length', ylabel='petal_length'>"
      ]
     },
     "execution_count": 13,
     "metadata": {},
     "output_type": "execute_result"
    },
    {
     "data": {
      "image/png": "[encoded data removed]",
      "text/plain": [
       "<Figure size 432x288 with 1 Axes>"
      ]
     },
     "metadata": {
      "needs_background": "light"
     },
     "output_type": "display_data"
    }
   ],
   "source": [
    "# sepal length and petal length plot\n",
    "iris_data.plot(kind=\"scatter\", x=\"sepal_length\", y=\"petal_length\")"
   ]
  },
  {
   "cell_type": "code",
   "execution_count": 14,
   "id": "19dc5a2e-9ccf-4017-8c3b-ce54cf59438a",
   "metadata": {},
   "outputs": [
    {
     "data": {
      "text/plain": [
       "<AxesSubplot:xlabel='sepal_length', ylabel='petal_width'>"
      ]
     },
     "execution_count": 14,
     "metadata": {},
     "output_type": "execute_result"
    },
    {
     "data": {
      "image/png": "[encoded data removed]",
      "text/plain": [
       "<Figure size 432x288 with 1 Axes>"
      ]
     },
     "metadata": {
      "needs_background": "light"
     },
     "output_type": "display_data"
    }
   ],
   "source": [
    "# sepal length and petal width plot\n",
    "iris_data.plot(kind=\"scatter\", x=\"sepal_length\", y=\"petal_width\")"
   ]
  },
  {
   "cell_type": "code",
   "execution_count": 15,
   "id": "e797deea-3af2-431b-a1f1-704ce93067a8",
   "metadata": {},
   "outputs": [
    {
     "data": {
      "text/plain": [
       "<AxesSubplot:xlabel='sepal_width', ylabel='petal_length'>"
      ]
     },
     "execution_count": 15,
     "metadata": {},
     "output_type": "execute_result"
    },
    {
     "data": {
      "image/png": "[encoded data removed]",
      "text/plain": [
       "<Figure size 432x288 with 1 Axes>"
      ]
     },
     "metadata": {
      "needs_background": "light"
     },
     "output_type": "display_data"
    }
   ],
   "source": [
    "# sepal width and petal length plot\n",
    "iris_data.plot(kind=\"scatter\", x=\"sepal_width\", y=\"petal_length\")"
   ]
  },
  {
   "cell_type": "code",
   "execution_count": 16,
   "id": "cd3d88b4-0f4c-45bc-8d9b-3bd57db7eaff",
   "metadata": {},
   "outputs": [
    {
     "data": {
      "text/plain": [
       "<AxesSubplot:xlabel='sepal_width', ylabel='petal_width'>"
      ]
     },
     "execution_count": 16,
     "metadata": {},
     "output_type": "execute_result"
    },
    {
     "data": {
      "image/png": "[encoded data removed]",
      "text/plain": [
       "<Figure size 432x288 with 1 Axes>"
      ]
     },
     "metadata": {
      "needs_background": "light"
     },
     "output_type": "display_data"
    }
   ],
   "source": [
    "# sepal width and petal width plot \n",
    "iris_data.plot(kind=\"scatter\", x=\"sepal_width\", y=\"petal_width\")"
   ]
  },
  {
   "cell_type": "code",
   "execution_count": 21,
   "id": "a2bceae5-d8ad-4e40-9e83-13ec84514828",
   "metadata": {},
   "outputs": [
    {
     "data": {
      "text/plain": [
       "'4DPlot.html'"
      ]
     },
     "execution_count": 21,
     "metadata": {},
     "output_type": "execute_result"
    }
   ],
   "source": [
    "# plot with all attributes \n",
    "data = iris_data\n",
    "\n",
    "#Set marker properties\n",
    "markercolor = data[\"petal_width\"]\n",
    "\n",
    "#Make Plotly figure\n",
    "fig1 = go.Scatter3d(x=data[\"sepal_length\"],\n",
    "                    y=data[\"sepal_width\"],\n",
    "                    z=data[\"petal_length\"],\n",
    "                    marker=dict(color=markercolor,\n",
    "                                opacity=1,\n",
    "                                reversescale=True,\n",
    "                                colorscale='Blues',\n",
    "                                size=5),\n",
    "                    line=dict (width=0.02),\n",
    "                    mode='markers')\n",
    "\n",
    "#Make Plot.ly Layout\n",
    "mylayout = go.Layout(scene=dict(xaxis=dict( title=\"sepal_length\"),\n",
    "                                yaxis=dict( title=\"sepal_width\"),\n",
    "                                zaxis=dict(title=\"petal_length\")),)\n",
    "\n",
    "#Plot and save html\n",
    "plotly.offline.plot({\"data\": [fig1],\n",
    "                     \"layout\": mylayout},\n",
    "                     auto_open=True,\n",
    "                     filename=(\"4DPlot.html\"))\n",
    "\n",
    "# iris_data.plot(kind=\"scatter\", x=\"sepal_length\", y=\"sepal_width\", z=\"petal_length\", w=\"petal_width\")"
   ]
  },
  {
   "cell_type": "code",
   "execution_count": 157,
   "id": "37f98277-76c1-4384-8ab6-4df2e13de3d4",
   "metadata": {},
   "outputs": [],
   "source": [
    "def get_special_iris_dataset():\n",
    "    iris_special_data = pd.read_csv(\"C:/Users/46760/edu/jupyteredu/special_iris.csv\")\n",
    "    print(iris_special_data.keys())\n",
    "    iris_special_df = pd.DataFrame(iris_special_data, columns = iris_special_data.keys())\n",
    "    return iris_special_df"
   ]
  },
  {
   "cell_type": "code",
   "execution_count": 158,
   "id": "e5b0742b-899a-4aa3-bfa5-c5af50999f11",
   "metadata": {},
   "outputs": [
    {
     "name": "stdout",
     "output_type": "stream",
     "text": [
      "Index(['sepal length (cm)', 'sepal width (cm)', 'petal length (cm)',\n",
      "       'petal width (cm)', 'extra sepal length', 'extra sepal width',\n",
      "       'extra petal length', 'extra petal width'],\n",
      "      dtype='object')\n"
     ]
    }
   ],
   "source": [
    "special_iris_data = get_special_iris_dataset()"
   ]
  },
  {
   "cell_type": "code",
   "execution_count": 159,
   "id": "5c4b94e4-4bef-4c98-8643-f4f9d601184a",
   "metadata": {},
   "outputs": [
    {
     "data": {
      "text/plain": [
       "<bound method NDFrame.head of          sepal length (cm)  sepal width (cm)  petal length (cm)  \\\n",
       "0                 5.100000          3.500000           1.400000   \n",
       "1                 4.900000          3.000000           1.400000   \n",
       "2                 4.700000          3.200000           1.300000   \n",
       "3                 4.600000          3.100000           1.500000   \n",
       "4                 5.000000          3.600000           1.400000   \n",
       "...                    ...               ...                ...   \n",
       "1499995           4.085309          1.829243           3.170688   \n",
       "1499996           3.841410          1.524369           3.048738   \n",
       "1499997           3.963360          1.829243           3.170688   \n",
       "1499998           3.780435          2.073142           3.292637   \n",
       "1499999           3.597511          1.829243           3.109713   \n",
       "\n",
       "         petal width (cm)  extra sepal length  extra sepal width  \\\n",
       "0                0.200000            4.845000           3.325000   \n",
       "1                0.200000            4.655000           2.850000   \n",
       "2                0.200000            4.465000           3.040000   \n",
       "3                0.200000            4.370000           2.945000   \n",
       "4                0.200000            4.750000           3.420000   \n",
       "...                   ...                 ...                ...   \n",
       "1499995          1.402420            3.881044           1.737781   \n",
       "1499996          1.158520            3.649340           1.448151   \n",
       "1499997          1.219495            3.765192           1.737781   \n",
       "1499998          1.402420            3.591414           1.969485   \n",
       "1499999          1.097546            3.417635           1.737781   \n",
       "\n",
       "         extra petal length  extra petal width  \n",
       "0                  1.330000           0.190000  \n",
       "1                  1.330000           0.190000  \n",
       "2                  1.235000           0.190000  \n",
       "3                  1.425000           0.190000  \n",
       "4                  1.330000           0.190000  \n",
       "...                     ...                ...  \n",
       "1499995            3.012153           1.332299  \n",
       "1499996            2.896301           1.100594  \n",
       "1499997            3.012153           1.158520  \n",
       "1499998            3.128005           1.332299  \n",
       "1499999            2.954227           1.042668  \n",
       "\n",
       "[1500000 rows x 8 columns]>"
      ]
     },
     "execution_count": 159,
     "metadata": {},
     "output_type": "execute_result"
    }
   ],
   "source": [
    "special_iris_data.shape #dataset consists of 1.5 million rows and 8 columns.\n",
    "special_iris_data.head #columns apart from the regular ones in the other dataset is extra sepal length, extra sepal width, extra petal length, extra petal width. "
   ]
  },
  {
   "cell_type": "code",
   "execution_count": 175,
   "id": "4f7cdef6-c62b-4846-9af1-ad1ebac429fd",
   "metadata": {},
   "outputs": [
    {
     "data": {
      "text/html": [
       "<div>\n",
       "<style scoped>\n",
       "    .dataframe tbody tr th:only-of-type {\n",
       "        vertical-align: middle;\n",
       "    }\n",
       "\n",
       "    .dataframe tbody tr th {\n",
       "        vertical-align: top;\n",
       "    }\n",
       "\n",
       "    .dataframe thead th {\n",
       "        text-align: right;\n",
       "    }\n",
       "</style>\n",
       "<table border=\"1\" class=\"dataframe\">\n",
       "  <thead>\n",
       "    <tr style=\"text-align: right;\">\n",
       "      <th></th>\n",
       "      <th>sepal length (cm)</th>\n",
       "      <th>sepal width (cm)</th>\n",
       "      <th>petal length (cm)</th>\n",
       "      <th>petal width (cm)</th>\n",
       "      <th>extra sepal length</th>\n",
       "      <th>extra sepal width</th>\n",
       "      <th>extra petal length</th>\n",
       "      <th>extra petal width</th>\n",
       "      <th>class</th>\n",
       "    </tr>\n",
       "  </thead>\n",
       "  <tbody>\n",
       "    <tr>\n",
       "      <th>count</th>\n",
       "      <td>1.500000e+06</td>\n",
       "      <td>1.500000e+06</td>\n",
       "      <td>1.500000e+06</td>\n",
       "      <td>1.500000e+06</td>\n",
       "      <td>1.500000e+06</td>\n",
       "      <td>1.500000e+06</td>\n",
       "      <td>1.500000e+06</td>\n",
       "      <td>1.500000e+06</td>\n",
       "      <td>1.500000e+06</td>\n",
       "    </tr>\n",
       "    <tr>\n",
       "      <th>mean</th>\n",
       "      <td>2.906212e+00</td>\n",
       "      <td>1.520580e+00</td>\n",
       "      <td>1.869061e+00</td>\n",
       "      <td>5.964946e-01</td>\n",
       "      <td>2.760901e+00</td>\n",
       "      <td>1.444551e+00</td>\n",
       "      <td>1.775607e+00</td>\n",
       "      <td>5.666698e-01</td>\n",
       "      <td>9.887513e-01</td>\n",
       "    </tr>\n",
       "    <tr>\n",
       "      <th>std</th>\n",
       "      <td>1.743836e+00</td>\n",
       "      <td>9.128122e-01</td>\n",
       "      <td>1.478474e+00</td>\n",
       "      <td>5.558827e-01</td>\n",
       "      <td>1.656644e+00</td>\n",
       "      <td>8.671716e-01</td>\n",
       "      <td>1.404551e+00</td>\n",
       "      <td>5.280886e-01</td>\n",
       "      <td>8.800379e-01</td>\n",
       "    </tr>\n",
       "    <tr>\n",
       "      <th>min</th>\n",
       "      <td>4.457045e-04</td>\n",
       "      <td>2.073044e-04</td>\n",
       "      <td>1.036522e-04</td>\n",
       "      <td>1.036522e-05</td>\n",
       "      <td>4.234193e-04</td>\n",
       "      <td>1.969392e-04</td>\n",
       "      <td>9.846961e-05</td>\n",
       "      <td>9.846961e-06</td>\n",
       "      <td>0.000000e+00</td>\n",
       "    </tr>\n",
       "    <tr>\n",
       "      <th>25%</th>\n",
       "      <td>1.419549e+00</td>\n",
       "      <td>7.424076e-01</td>\n",
       "      <td>6.712539e-01</td>\n",
       "      <td>1.281063e-01</td>\n",
       "      <td>1.348572e+00</td>\n",
       "      <td>7.052872e-01</td>\n",
       "      <td>6.376912e-01</td>\n",
       "      <td>1.217010e-01</td>\n",
       "      <td>0.000000e+00</td>\n",
       "    </tr>\n",
       "    <tr>\n",
       "      <th>50%</th>\n",
       "      <td>2.844506e+00</td>\n",
       "      <td>1.487654e+00</td>\n",
       "      <td>1.361865e+00</td>\n",
       "      <td>3.982347e-01</td>\n",
       "      <td>2.702281e+00</td>\n",
       "      <td>1.413271e+00</td>\n",
       "      <td>1.293772e+00</td>\n",
       "      <td>3.783230e-01</td>\n",
       "      <td>1.000000e+00</td>\n",
       "    </tr>\n",
       "    <tr>\n",
       "      <th>75%</th>\n",
       "      <td>4.274809e+00</td>\n",
       "      <td>2.238335e+00</td>\n",
       "      <td>2.960708e+00</td>\n",
       "      <td>9.752444e-01</td>\n",
       "      <td>4.061068e+00</td>\n",
       "      <td>2.126419e+00</td>\n",
       "      <td>2.812673e+00</td>\n",
       "      <td>9.264822e-01</td>\n",
       "      <td>2.000000e+00</td>\n",
       "    </tr>\n",
       "    <tr>\n",
       "      <th>max</th>\n",
       "      <td>7.900000e+00</td>\n",
       "      <td>4.400000e+00</td>\n",
       "      <td>6.900000e+00</td>\n",
       "      <td>2.500000e+00</td>\n",
       "      <td>7.505000e+00</td>\n",
       "      <td>4.180000e+00</td>\n",
       "      <td>6.555000e+00</td>\n",
       "      <td>2.375000e+00</td>\n",
       "      <td>2.000000e+00</td>\n",
       "    </tr>\n",
       "  </tbody>\n",
       "</table>\n",
       "</div>"
      ],
      "text/plain": [
       "       sepal length (cm)  sepal width (cm)  petal length (cm)  \\\n",
       "count       1.500000e+06      1.500000e+06       1.500000e+06   \n",
       "mean        2.906212e+00      1.520580e+00       1.869061e+00   \n",
       "std         1.743836e+00      9.128122e-01       1.478474e+00   \n",
       "min         4.457045e-04      2.073044e-04       1.036522e-04   \n",
       "25%         1.419549e+00      7.424076e-01       6.712539e-01   \n",
       "50%         2.844506e+00      1.487654e+00       1.361865e+00   \n",
       "75%         4.274809e+00      2.238335e+00       2.960708e+00   \n",
       "max         7.900000e+00      4.400000e+00       6.900000e+00   \n",
       "\n",
       "       petal width (cm)  extra sepal length  extra sepal width  \\\n",
       "count      1.500000e+06        1.500000e+06       1.500000e+06   \n",
       "mean       5.964946e-01        2.760901e+00       1.444551e+00   \n",
       "std        5.558827e-01        1.656644e+00       8.671716e-01   \n",
       "min        1.036522e-05        4.234193e-04       1.969392e-04   \n",
       "25%        1.281063e-01        1.348572e+00       7.052872e-01   \n",
       "50%        3.982347e-01        2.702281e+00       1.413271e+00   \n",
       "75%        9.752444e-01        4.061068e+00       2.126419e+00   \n",
       "max        2.500000e+00        7.505000e+00       4.180000e+00   \n",
       "\n",
       "       extra petal length  extra petal width         class  \n",
       "count        1.500000e+06       1.500000e+06  1.500000e+06  \n",
       "mean         1.775607e+00       5.666698e-01  9.887513e-01  \n",
       "std          1.404551e+00       5.280886e-01  8.800379e-01  \n",
       "min          9.846961e-05       9.846961e-06  0.000000e+00  \n",
       "25%          6.376912e-01       1.217010e-01  0.000000e+00  \n",
       "50%          1.293772e+00       3.783230e-01  1.000000e+00  \n",
       "75%          2.812673e+00       9.264822e-01  2.000000e+00  \n",
       "max          6.555000e+00       2.375000e+00  2.000000e+00  "
      ]
     },
     "execution_count": 175,
     "metadata": {},
     "output_type": "execute_result"
    }
   ],
   "source": [
    "special_iris_data.describe()"
   ]
  },
  {
   "cell_type": "code",
   "execution_count": 190,
   "id": "5bb5162b-b021-4c7e-b600-f0dc57d9e1c0",
   "metadata": {},
   "outputs": [
    {
     "data": {
      "text/plain": [
       "<matplotlib.collections.PathCollection at 0x286b9131b80>"
      ]
     },
     "execution_count": 190,
     "metadata": {},
     "output_type": "execute_result"
    },
    {
     "data": {
      "image/png": "[encoded data removed]",
      "text/plain": [
       "<Figure size 432x288 with 1 Axes>"
      ]
     },
     "metadata": {
      "needs_background": "light"
     },
     "output_type": "display_data"
    }
   ],
   "source": [
    "def iris_special_data_kmeans(data): \n",
    "    kmeans = KMeans(n_clusters=4)\n",
    "    kmeans.fit(data)\n",
    "    data[\"class\"] = kmeans.labels_\n",
    "    \n",
    "iris_special_data_kmeans(special_iris_data)\n",
    "\n",
    "plt.scatter(x=special_iris_data[\"extra petal length\"], y=special_iris_data[\"extra petal width\"], c=special_iris_data[\"class\"])"
   ]
  },
  {
   "cell_type": "markdown",
   "id": "88b41b07-c7d0-4d59-97ad-2ac469233cca",
   "metadata": {},
   "source": [
    "# for best result set n_clusters=4 as otherwise the plot will result in a "
   ]
  },
  {
   "cell_type": "code",
   "execution_count": 194,
   "id": "f030fe96-173c-48bc-9338-474de1656a1b",
   "metadata": {},
   "outputs": [
    {
     "data": {
      "text/plain": [
       "<matplotlib.collections.PathCollection at 0x286b9254e50>"
      ]
     },
     "execution_count": 194,
     "metadata": {},
     "output_type": "execute_result"
    },
    {
     "data": {
      "image/png": "[encoded data removed]",
      "text/plain": [
       "<Figure size 432x288 with 1 Axes>"
      ]
     },
     "metadata": {
      "needs_background": "light"
     },
     "output_type": "display_data"
    }
   ],
   "source": [
    "def iris_special_data_kmeansthree(data): \n",
    "    kmeans = KMeans(n_clusters=3)\n",
    "    kmeans.fit(data)\n",
    "    data[\"class\"] = kmeans.labels_\n",
    "    \n",
    "iris_special_data_kmeansthree(special_iris_data)\n",
    "\n",
    "plt.scatter(x=special_iris_data[\"extra petal length\"], y=special_iris_data[\"extra petal width\"], c=special_iris_data[\"class\"])"
   ]
  }
 ],
 "metadata": {
  "kernelspec": {
   "display_name": "Python 3 (ipykernel)",
   "language": "python",
   "name": "python3"
  },
  "language_info": {
   "codemirror_mode": {
    "name": "ipython",
    "version": 3
   },
   "file_extension": ".py",
   "mimetype": "text/x-python",
   "name": "python",
   "nbconvert_exporter": "python",
   "pygments_lexer": "ipython3",
   "version": "3.8.12"
  }
 },
 "nbformat": 4,
 "nbformat_minor": 5
}

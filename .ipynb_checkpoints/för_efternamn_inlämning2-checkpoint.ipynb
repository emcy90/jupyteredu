{
 "cells": [
  {
   "cell_type": "code",
   "execution_count": 11,
   "id": "2f219a2a",
   "metadata": {},
   "outputs": [],
   "source": [
    "from sklearn.datasets import load_iris\n",
    "from sklearn.decomposition import PCA\n",
    "\n",
    "import pandas as pd"
   ]
  },
  {
   "cell_type": "code",
   "execution_count": 12,
   "id": "2ef57521",
   "metadata": {},
   "outputs": [],
   "source": [
    "def pca_transformation(data):\n",
    "    pca = PCA(n_components=2)\n",
    "    principal_components = pca.fit_transform(data)\n",
    "    principal_df = pd.DataFrame(data = principal_components\n",
    "             ,columns = ['principal component 1', 'principal component 2'])\n",
    "    return principal_df"
   ]
  },
  {
   "cell_type": "code",
   "execution_count": 13,
   "id": "be145b29",
   "metadata": {},
   "outputs": [],
   "source": [
    "def get_iris_dataset():\n",
    "    iris_data=load_iris()\n",
    "    iris_df = pd.DataFrame(iris_data.data, columns = iris_data.feature_names)\n",
    "    return iris_df"
   ]
  },
  {
   "cell_type": "code",
   "execution_count": null,
   "id": "d1f7c0da",
   "metadata": {},
   "outputs": [],
   "source": []
  }
 ],
 "metadata": {
  "kernelspec": {
   "display_name": "ml-theory-env",
   "language": "python",
   "name": "ml-theory-env"
  },
  "language_info": {
   "codemirror_mode": {
    "name": "ipython",
    "version": 3
   },
   "file_extension": ".py",
   "mimetype": "text/x-python",
   "name": "python",
   "nbconvert_exporter": "python",
   "pygments_lexer": "ipython3",
   "version": "3.8.10"
  }
 },
 "nbformat": 4,
 "nbformat_minor": 5
}
